{
 "cells": [
  {
   "cell_type": "code",
   "execution_count": 1,
   "metadata": {},
   "outputs": [],
   "source": [
    "import numpy as np\n",
    "import pandas as pd\n",
    "from sklearn.model_selection import train_test_split"
   ]
  },
  {
   "cell_type": "markdown",
   "metadata": {},
   "source": [
    "## Loading the Data"
   ]
  },
  {
   "cell_type": "code",
   "execution_count": 2,
   "metadata": {},
   "outputs": [
    {
     "name": "stdout",
     "output_type": "stream",
     "text": [
      "Number of training examples: 60000\n",
      "Number of test examples: 10000\n"
     ]
    }
   ],
   "source": [
    "train_data_path = 'data/train.csv'\n",
    "test_data_path = 'data/test.csv'\n",
    "\n",
    "train_data = pd.read_csv(train_data_path)\n",
    "test_data = pd.read_csv(test_data_path)\n",
    "\n",
    "print(\"Number of training examples:\", train_data.shape[0])\n",
    "print(\"Number of test examples:\", test_data.shape[0])"
   ]
  },
  {
   "cell_type": "markdown",
   "metadata": {},
   "source": [
    "**# Separate features and labels**"
   ]
  },
  {
   "cell_type": "code",
   "execution_count": 4,
   "metadata": {},
   "outputs": [],
   "source": [
    "X_train = train_data.drop('label', axis=1).values\n",
    "y_train = train_data['label'].values\n",
    "\n",
    "X_test = test_data.drop('label', axis=1).values\n",
    "y_test = test_data['label'].values"
   ]
  },
  {
   "cell_type": "markdown",
   "metadata": {},
   "source": [
    "**Normalize the pixel values (scale to [0, 1])**"
   ]
  },
  {
   "cell_type": "code",
   "execution_count": 5,
   "metadata": {},
   "outputs": [],
   "source": [
    "X_train = X_train / 255.0\n",
    "X_test = X_test / 255.0"
   ]
  },
  {
   "cell_type": "markdown",
   "metadata": {},
   "source": [
    "**Convert labels to one-hot encoding**"
   ]
  },
  {
   "cell_type": "code",
   "execution_count": 6,
   "metadata": {},
   "outputs": [],
   "source": [
    "def one_hot_encode(labels, num_classes):\n",
    "    return np.eye(num_classes)[labels]\n",
    "\n",
    "num_classes = 10\n",
    "y_train_one_hot = one_hot_encode(y_train, num_classes)\n",
    "y_test_one_hot = one_hot_encode(y_test, num_classes)"
   ]
  },
  {
   "cell_type": "markdown",
   "metadata": {},
   "source": [
    "**Split the training data into training and validation sets**"
   ]
  },
  {
   "cell_type": "code",
   "execution_count": 7,
   "metadata": {},
   "outputs": [],
   "source": [
    "X_train, X_val, y_train_one_hot, y_val_one_hot = train_test_split(\n",
    "    X_train, y_train_one_hot, test_size=0.1, random_state=42\n",
    ")"
   ]
  },
  {
   "cell_type": "markdown",
   "metadata": {},
   "source": [
    "## Defining Neural Network Components"
   ]
  },
  {
   "cell_type": "markdown",
   "metadata": {},
   "source": [
    "**Dense Layer**"
   ]
  },
  {
   "cell_type": "code",
   "execution_count": 8,
   "metadata": {},
   "outputs": [],
   "source": [
    "class DenseLayer:\n",
    "    def __init__(self, input_dim, output_dim):\n",
    "        # Initialize weights and biases\n",
    "        self.W = np.random.randn(input_dim, output_dim) * np.sqrt(2.0 / input_dim)\n",
    "        self.b = np.zeros((1, output_dim))\n",
    "        \n",
    "        # Gradients\n",
    "        self.dW = None\n",
    "        self.db = None\n",
    "        \n",
    "        # Adam parameters\n",
    "        self.m_W = np.zeros_like(self.W)\n",
    "        self.v_W = np.zeros_like(self.W)\n",
    "        self.m_b = np.zeros_like(self.b)\n",
    "        self.v_b = np.zeros_like(self.b)\n",
    "        \n",
    "        # Cache for backpropagation\n",
    "        self.input = None\n",
    "    \n",
    "    def forward(self, X):\n",
    "        self.input = X\n",
    "        output = np.dot(X, self.W) + self.b\n",
    "        return output\n",
    "    \n",
    "    def backward(self, grad_output):\n",
    "        # Compute gradients\n",
    "        self.dW = np.dot(self.input.T, grad_output)\n",
    "        self.db = np.sum(grad_output, axis=0, keepdims=True)\n",
    "        grad_input = np.dot(grad_output, self.W.T)\n",
    "        return grad_input\n",
    "    \n",
    "    def update_params(self, learning_rate, beta1, beta2, epsilon, t):\n",
    "        # Update weights and biases using Adam optimizer\n",
    "        self.m_W = beta1 * self.m_W + (1 - beta1) * self.dW\n",
    "        self.v_W = beta2 * self.v_W + (1 - beta2) * (self.dW ** 2)\n",
    "        m_W_hat = self.m_W / (1 - beta1 ** t)\n",
    "        v_W_hat = self.v_W / (1 - beta2 ** t)\n",
    "        self.W -= learning_rate * m_W_hat / (np.sqrt(v_W_hat) + epsilon)\n",
    "        \n",
    "        self.m_b = beta1 * self.m_b + (1 - beta1) * self.db\n",
    "        self.v_b = beta2 * self.v_b + (1 - beta2) * (self.db ** 2)\n",
    "        m_b_hat = self.m_b / (1 - beta1 ** t)\n",
    "        v_b_hat = self.v_b / (1 - beta2 ** t)\n",
    "        self.b -= learning_rate * m_b_hat / (np.sqrt(v_b_hat) + epsilon)\n"
   ]
  },
  {
   "cell_type": "markdown",
   "metadata": {},
   "source": [
    "**Batch Normalization**"
   ]
  },
  {
   "cell_type": "code",
   "execution_count": 9,
   "metadata": {},
   "outputs": [],
   "source": [
    "class BatchNormalization:\n",
    "    def __init__(self, input_dim, epsilon=1e-5, momentum=0.9):\n",
    "        self.gamma = np.ones((1, input_dim))\n",
    "        self.beta = np.zeros((1, input_dim))\n",
    "        self.epsilon = epsilon\n",
    "        self.momentum = momentum\n",
    "        \n",
    "        self.running_mean = np.zeros((1, input_dim))\n",
    "        self.running_var = np.zeros((1, input_dim))\n",
    "        \n",
    "        # Gradients\n",
    "        self.dgamma = None\n",
    "        self.dbeta = None\n",
    "        \n",
    "        # Cache for backpropagation\n",
    "        self.X_centered = None\n",
    "        self.std_inv = None\n",
    "        self.batch_mean = None\n",
    "        self.batch_var = None\n",
    "        \n",
    "        # Adam parameters\n",
    "        self.m_gamma = np.zeros_like(self.gamma)\n",
    "        self.v_gamma = np.zeros_like(self.gamma)\n",
    "        self.m_beta = np.zeros_like(self.beta)\n",
    "        self.v_beta = np.zeros_like(self.beta)\n",
    "    \n",
    "    def forward(self, X, training=True):\n",
    "        if training:\n",
    "            self.batch_mean = np.mean(X, axis=0, keepdims=True)\n",
    "            self.batch_var = np.var(X, axis=0, keepdims=True)\n",
    "            \n",
    "            self.X_centered = X - self.batch_mean\n",
    "            self.std_inv = 1.0 / np.sqrt(self.batch_var + self.epsilon)\n",
    "            \n",
    "            X_norm = self.X_centered * self.std_inv\n",
    "            out = self.gamma * X_norm + self.beta\n",
    "            \n",
    "            # Update running estimates\n",
    "            self.running_mean = self.momentum * self.running_mean + (1 - self.momentum) * self.batch_mean\n",
    "            self.running_var = self.momentum * self.running_var + (1 - self.momentum) * self.batch_var\n",
    "        else:\n",
    "            # Use running mean and var during inference\n",
    "            X_centered = X - self.running_mean\n",
    "            std_inv = 1.0 / np.sqrt(self.running_var + self.epsilon)\n",
    "            X_norm = X_centered * std_inv\n",
    "            out = self.gamma * X_norm + self.beta\n",
    "        return out\n",
    "    \n",
    "    def backward(self, grad_output):\n",
    "        N, D = grad_output.shape\n",
    "        \n",
    "        # Step-wise computation for gradients\n",
    "        X_norm = self.X_centered * self.std_inv\n",
    "        dX_norm = grad_output * self.gamma\n",
    "        \n",
    "        dvar = np.sum(dX_norm * self.X_centered * -0.5 * self.std_inv ** 3, axis=0)\n",
    "        dmean = np.sum(dX_norm * -self.std_inv, axis=0) + dvar * np.mean(-2.0 * self.X_centered, axis=0)\n",
    "        \n",
    "        dX = (dX_norm * self.std_inv) + (dvar * 2.0 * self.X_centered / N) + (dmean / N)\n",
    "        self.dgamma = np.sum(grad_output * X_norm, axis=0, keepdims=True)\n",
    "        self.dbeta = np.sum(grad_output, axis=0, keepdims=True)\n",
    "        \n",
    "        return dX\n",
    "    \n",
    "    def update_params(self, learning_rate, beta1, beta2, epsilon, t):\n",
    "        # Update gamma and beta using Adam optimizer\n",
    "        self.m_gamma = beta1 * self.m_gamma + (1 - beta1) * self.dgamma\n",
    "        self.v_gamma = beta2 * self.v_gamma + (1 - beta2) * (self.dgamma ** 2)\n",
    "        m_gamma_hat = self.m_gamma / (1 - beta1 ** t)\n",
    "        v_gamma_hat = self.v_gamma / (1 - beta2 ** t)\n",
    "        self.gamma -= learning_rate * m_gamma_hat / (np.sqrt(v_gamma_hat) + epsilon)\n",
    "        \n",
    "        self.m_beta = beta1 * self.m_beta + (1 - beta1) * self.dbeta\n",
    "        self.v_beta = beta2 * self.v_beta + (1 - beta2) * (self.dbeta ** 2)\n",
    "        m_beta_hat = self.m_beta / (1 - beta1 ** t)\n",
    "        v_beta_hat = self.v_beta / (1 - beta2 ** t)\n",
    "        self.beta -= learning_rate * m_beta_hat / (np.sqrt(v_beta_hat) + epsilon)\n"
   ]
  },
  {
   "cell_type": "markdown",
   "metadata": {},
   "source": [
    "**ReLU Activation**"
   ]
  },
  {
   "cell_type": "code",
   "execution_count": 10,
   "metadata": {},
   "outputs": [],
   "source": [
    "class ReLU:\n",
    "    def __init__(self):\n",
    "        self.input = None\n",
    "    \n",
    "    def forward(self, X):\n",
    "        self.input = X\n",
    "        return np.maximum(0, X)\n",
    "    \n",
    "    def backward(self, grad_output):\n",
    "        grad_input = grad_output.copy()\n",
    "        grad_input[self.input <= 0] = 0\n",
    "        return grad_input\n"
   ]
  },
  {
   "cell_type": "markdown",
   "metadata": {},
   "source": [
    "**Dropout**"
   ]
  },
  {
   "cell_type": "code",
   "execution_count": 11,
   "metadata": {},
   "outputs": [],
   "source": [
    "class Dropout:\n",
    "    def __init__(self, dropout_rate):\n",
    "        self.dropout_rate = dropout_rate\n",
    "        self.mask = None\n",
    "    \n",
    "    def forward(self, X, training=True):\n",
    "        if training:\n",
    "            self.mask = (np.random.rand(*X.shape) > self.dropout_rate) / (1.0 - self.dropout_rate)\n",
    "            return X * self.mask\n",
    "        else:\n",
    "            return X  # During inference, no dropout applied\n",
    "    \n",
    "    def backward(self, grad_output):\n",
    "        return grad_output * self.mask\n"
   ]
  },
  {
   "cell_type": "markdown",
   "metadata": {},
   "source": [
    "**Softmax and Cross-Entropy Loss**"
   ]
  },
  {
   "cell_type": "code",
   "execution_count": 12,
   "metadata": {},
   "outputs": [],
   "source": [
    "def softmax_cross_entropy_loss(logits, labels):\n",
    "    # logits: output of the network before softmax, shape (N, C)\n",
    "    # labels: one-hot encoded true labels, shape (N, C)\n",
    "    # returns loss and gradient with respect to logits\n",
    "    \n",
    "    # Compute softmax probabilities\n",
    "    exps = np.exp(logits - np.max(logits, axis=1, keepdims=True))\n",
    "    softmax_probs = exps / np.sum(exps, axis=1, keepdims=True)\n",
    "    \n",
    "    # Compute loss\n",
    "    N = logits.shape[0]\n",
    "    loss = -np.sum(labels * np.log(softmax_probs + 1e-15)) / N\n",
    "    \n",
    "    # Compute gradient\n",
    "    grad_logits = (softmax_probs - labels) / N\n",
    "    return loss, grad_logits\n"
   ]
  },
  {
   "cell_type": "markdown",
   "metadata": {},
   "source": [
    "## Building the Network Architecture"
   ]
  },
  {
   "cell_type": "code",
   "execution_count": 13,
   "metadata": {},
   "outputs": [],
   "source": [
    "class NeuralNetwork:\n",
    "    def __init__(self, layers):\n",
    "        self.layers = layers\n",
    "        self.t = 1  # Timestep for Adam optimizer\n",
    "    \n",
    "    def forward(self, X, training=True):\n",
    "        for layer in self.layers:\n",
    "            if isinstance(layer, (Dropout, BatchNormalization)):\n",
    "                X = layer.forward(X, training=training)\n",
    "            else:\n",
    "                X = layer.forward(X)\n",
    "        return X\n",
    "    \n",
    "    def backward(self, grad_output):\n",
    "        for layer in reversed(self.layers):\n",
    "            grad_output = layer.backward(grad_output)\n",
    "    \n",
    "    def update_params(self, learning_rate, beta1, beta2, epsilon):\n",
    "        for layer in self.layers:\n",
    "            if hasattr(layer, 'update_params'):\n",
    "                layer.update_params(learning_rate, beta1, beta2, epsilon, self.t)\n",
    "        self.t += 1\n"
   ]
  },
  {
   "cell_type": "code",
   "execution_count": 14,
   "metadata": {},
   "outputs": [],
   "source": [
    "input_dim = 784  # 28x28 images flattened\n",
    "layer1_units = 256\n",
    "layer2_units = 128\n",
    "output_units = 10  # Number of classes\n",
    "\n",
    "layers = [\n",
    "    DenseLayer(input_dim, layer1_units),\n",
    "    BatchNormalization(layer1_units),\n",
    "    ReLU(),\n",
    "    Dropout(0.2),\n",
    "    \n",
    "    DenseLayer(layer1_units, layer2_units),\n",
    "    BatchNormalization(layer2_units),\n",
    "    ReLU(),\n",
    "    Dropout(0.2),\n",
    "    \n",
    "    DenseLayer(layer2_units, output_units)\n",
    "]\n",
    "\n",
    "# Initialize the network\n",
    "network = NeuralNetwork(layers)\n"
   ]
  },
  {
   "cell_type": "markdown",
   "metadata": {},
   "source": [
    "## Training the Model"
   ]
  },
  {
   "cell_type": "markdown",
   "metadata": {},
   "source": [
    "**Setting Hyperparameters**"
   ]
  },
  {
   "cell_type": "code",
   "execution_count": 15,
   "metadata": {},
   "outputs": [],
   "source": [
    "learning_rate = 0.001\n",
    "beta1 = 0.9\n",
    "beta2 = 0.999\n",
    "epsilon = 1e-8\n",
    "num_epochs = 10\n",
    "batch_size = 64"
   ]
  },
  {
   "cell_type": "markdown",
   "metadata": {},
   "source": [
    "**Training Loop**"
   ]
  },
  {
   "cell_type": "code",
   "execution_count": 16,
   "metadata": {},
   "outputs": [],
   "source": [
    "def train(network, X_train, y_train_one_hot, X_val, y_val_one_hot, num_epochs, batch_size):\n",
    "    num_train_samples = X_train.shape[0]\n",
    "    num_batches = int(np.ceil(num_train_samples / batch_size))\n",
    "    \n",
    "    train_losses = []\n",
    "    val_losses = []\n",
    "    \n",
    "    for epoch in range(num_epochs):\n",
    "        # Shuffle the training data\n",
    "        indices = np.arange(num_train_samples)\n",
    "        np.random.shuffle(indices)\n",
    "        X_train_shuffled = X_train[indices]\n",
    "        y_train_shuffled = y_train_one_hot[indices]\n",
    "        \n",
    "        epoch_loss = 0.0\n",
    "        for i in range(num_batches):\n",
    "            start = i * batch_size\n",
    "            end = min(start + batch_size, num_train_samples)\n",
    "            X_batch = X_train_shuffled[start:end]\n",
    "            y_batch = y_train_shuffled[start:end]\n",
    "            \n",
    "            # Forward pass\n",
    "            logits = network.forward(X_batch, training=True)\n",
    "            \n",
    "            # Compute loss and gradient\n",
    "            loss, grad_logits = softmax_cross_entropy_loss(logits, y_batch)\n",
    "            epoch_loss += loss\n",
    "            \n",
    "            # Backward pass\n",
    "            network.backward(grad_logits)\n",
    "            \n",
    "            # Update parameters\n",
    "            network.update_params(learning_rate, beta1, beta2, epsilon)\n",
    "        \n",
    "        # Compute average training loss\n",
    "        avg_train_loss = epoch_loss / num_batches\n",
    "        train_losses.append(avg_train_loss)\n",
    "        \n",
    "        # Validation\n",
    "        logits_val = network.forward(X_val, training=False)\n",
    "        val_loss, _ = softmax_cross_entropy_loss(logits_val, y_val_one_hot)\n",
    "        val_losses.append(val_loss)\n",
    "        \n",
    "        # Compute validation accuracy\n",
    "        predictions = np.argmax(logits_val, axis=1)\n",
    "        true_labels = np.argmax(y_val_one_hot, axis=1)\n",
    "        val_accuracy = np.mean(predictions == true_labels)\n",
    "        \n",
    "        print(f\"Epoch {epoch+1}/{num_epochs}, Training Loss: {avg_train_loss:.4f}, \"\n",
    "              f\"Validation Loss: {val_loss:.4f}, Validation Accuracy: {val_accuracy:.4f}\")\n",
    "    \n",
    "    return train_losses, val_losses\n"
   ]
  },
  {
   "cell_type": "markdown",
   "metadata": {},
   "source": [
    "**Training the Network**"
   ]
  },
  {
   "cell_type": "code",
   "execution_count": 17,
   "metadata": {},
   "outputs": [
    {
     "name": "stdout",
     "output_type": "stream",
     "text": [
      "Epoch 1/10, Training Loss: 0.5285, Validation Loss: 0.3588, Validation Accuracy: 0.8693\n",
      "Epoch 2/10, Training Loss: 0.3997, Validation Loss: 0.3504, Validation Accuracy: 0.8713\n",
      "Epoch 3/10, Training Loss: 0.3618, Validation Loss: 0.3050, Validation Accuracy: 0.8857\n",
      "Epoch 4/10, Training Loss: 0.3388, Validation Loss: 0.3465, Validation Accuracy: 0.8700\n",
      "Epoch 5/10, Training Loss: 0.3173, Validation Loss: 0.3060, Validation Accuracy: 0.8857\n",
      "Epoch 6/10, Training Loss: 0.3028, Validation Loss: 0.3041, Validation Accuracy: 0.8835\n",
      "Epoch 7/10, Training Loss: 0.2924, Validation Loss: 0.2863, Validation Accuracy: 0.8910\n",
      "Epoch 8/10, Training Loss: 0.2799, Validation Loss: 0.2834, Validation Accuracy: 0.8953\n",
      "Epoch 9/10, Training Loss: 0.2697, Validation Loss: 0.2851, Validation Accuracy: 0.8957\n",
      "Epoch 10/10, Training Loss: 0.2610, Validation Loss: 0.2931, Validation Accuracy: 0.8930\n"
     ]
    }
   ],
   "source": [
    "train_losses, val_losses = train(\n",
    "    network, X_train, y_train_one_hot, X_val, y_val_one_hot, num_epochs, batch_size\n",
    ")"
   ]
  },
  {
   "cell_type": "markdown",
   "metadata": {},
   "source": [
    "**Evaluating the Model**"
   ]
  },
  {
   "cell_type": "code",
   "execution_count": 18,
   "metadata": {},
   "outputs": [
    {
     "name": "stdout",
     "output_type": "stream",
     "text": [
      "Test Loss: 0.2948, Test Accuracy: 0.8926\n"
     ]
    }
   ],
   "source": [
    "def evaluate(network, X_test, y_test_one_hot):\n",
    "    logits = network.forward(X_test, training=False)\n",
    "    test_loss, _ = softmax_cross_entropy_loss(logits, y_test_one_hot)\n",
    "    predictions = np.argmax(logits, axis=1)\n",
    "    true_labels = np.argmax(y_test_one_hot, axis=1)\n",
    "    test_accuracy = np.mean(predictions == true_labels)\n",
    "    print(f\"Test Loss: {test_loss:.4f}, Test Accuracy: {test_accuracy:.4f}\")\n",
    "    return test_loss, test_accuracy\n",
    "\n",
    "test_loss, test_accuracy = evaluate(network, X_test, y_test_one_hot)\n"
   ]
  },
  {
   "cell_type": "markdown",
   "metadata": {},
   "source": [
    "## Saving the Trained Model"
   ]
  },
  {
   "cell_type": "code",
   "execution_count": 19,
   "metadata": {},
   "outputs": [],
   "source": [
    "import pickle\n",
    "\n",
    "# Save the model\n",
    "with open('trained_model.pkl', 'wb') as f:\n",
    "    pickle.dump(network, f)\n"
   ]
  },
  {
   "cell_type": "markdown",
   "metadata": {},
   "source": [
    "**loading the trained model**"
   ]
  },
  {
   "cell_type": "code",
   "execution_count": null,
   "metadata": {},
   "outputs": [],
   "source": [
    "# Load the model\n",
    "with open('trained_model.pkl', 'rb') as f:\n",
    "    loaded_network = pickle.load(f)\n",
    "\n",
    "# Use the loaded model for prediction\n",
    "logits_test = loaded_network.forward(X_test, training=False)\n",
    "predictions_test = np.argmax(logits_test, axis=1)\n"
   ]
  },
  {
   "cell_type": "markdown",
   "metadata": {},
   "source": [
    "**Visualizing Training Progress**"
   ]
  },
  {
   "cell_type": "code",
   "execution_count": 20,
   "metadata": {},
   "outputs": [
    {
     "data": {
      "image/png": "[encoded data removed]",
      "text/plain": [
       "<Figure size 640x480 with 1 Axes>"
      ]
     },
     "metadata": {},
     "output_type": "display_data"
    }
   ],
   "source": [
    "import matplotlib.pyplot as plt\n",
    "\n",
    "epochs = range(1, num_epochs + 1)\n",
    "plt.plot(epochs, train_losses, 'b', label='Training loss')\n",
    "plt.plot(epochs, val_losses, 'r', label='Validation loss')\n",
    "plt.title('Training and Validation Loss')\n",
    "plt.xlabel('Epochs')\n",
    "plt.ylabel('Loss')\n",
    "plt.legend()\n",
    "plt.show()\n"
   ]
  }
 ],
 "metadata": {
  "kernelspec": {
   "display_name": ".venv",
   "language": "python",
   "name": "python3"
  },
  "language_info": {
   "codemirror_mode": {
    "name": "ipython",
    "version": 3
   },
   "file_extension": ".py",
   "mimetype": "text/x-python",
   "name": "python",
   "nbconvert_exporter": "python",
   "pygments_lexer": "ipython3",
   "version": "3.12.3"
  }
 },
 "nbformat": 4,
 "nbformat_minor": 2
}
