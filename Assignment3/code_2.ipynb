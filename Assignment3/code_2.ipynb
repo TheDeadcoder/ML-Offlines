{
 "cells": [
  {
   "cell_type": "code",
   "execution_count": 1,
   "metadata": {},
   "outputs": [],
   "source": [
    "import numpy as np\n",
    "import pandas as pd\n",
    "from sklearn.model_selection import train_test_split"
   ]
  },
  {
   "cell_type": "markdown",
   "metadata": {},
   "source": [
    "## Loading the Data"
   ]
  },
  {
   "cell_type": "code",
   "execution_count": 2,
   "metadata": {},
   "outputs": [
    {
     "name": "stdout",
     "output_type": "stream",
     "text": [
      "Number of training examples: 60000\n",
      "Number of test examples: 10000\n"
     ]
    }
   ],
   "source": [
    "train_data_path = 'data/train.csv'\n",
    "test_data_path = 'data/test.csv'\n",
    "\n",
    "train_data = pd.read_csv(train_data_path)\n",
    "test_data = pd.read_csv(test_data_path)\n",
    "\n",
    "print(\"Number of training examples:\", train_data.shape[0])\n",
    "print(\"Number of test examples:\", test_data.shape[0])"
   ]
  },
  {
   "cell_type": "markdown",
   "metadata": {},
   "source": [
    "**# Separate features and labels**"
   ]
  },
  {
   "cell_type": "code",
   "execution_count": 3,
   "metadata": {},
   "outputs": [],
   "source": [
    "X_train = train_data.drop('label', axis=1).values\n",
    "y_train = train_data['label'].values\n",
    "\n",
    "X_test = test_data.drop('label', axis=1).values\n",
    "y_test = test_data['label'].values"
   ]
  },
  {
   "cell_type": "markdown",
   "metadata": {},
   "source": [
    "**Normalize the pixel values (scale to [0, 1])**"
   ]
  },
  {
   "cell_type": "code",
   "execution_count": 4,
   "metadata": {},
   "outputs": [],
   "source": [
    "X_train = X_train / 255.0\n",
    "X_test = X_test / 255.0"
   ]
  },
  {
   "cell_type": "markdown",
   "metadata": {},
   "source": [
    "**Convert labels to one-hot encoding**"
   ]
  },
  {
   "cell_type": "code",
   "execution_count": 5,
   "metadata": {},
   "outputs": [],
   "source": [
    "def one_hot_encode(labels, num_classes):\n",
    "    return np.eye(num_classes)[labels]\n",
    "\n",
    "num_classes = 10\n",
    "y_train_one_hot = one_hot_encode(y_train, num_classes)\n",
    "y_test_one_hot = one_hot_encode(y_test, num_classes)"
   ]
  },
  {
   "cell_type": "markdown",
   "metadata": {},
   "source": [
    "**Split the training data into training and validation sets**"
   ]
  },
  {
   "cell_type": "code",
   "execution_count": 6,
   "metadata": {},
   "outputs": [],
   "source": [
    "X_train, X_val, y_train_one_hot, y_val_one_hot = train_test_split(\n",
    "    X_train, y_train_one_hot, test_size=0.1, random_state=42\n",
    ")"
   ]
  },
  {
   "cell_type": "markdown",
   "metadata": {},
   "source": [
    "## Defining Neural Network Components"
   ]
  },
  {
   "cell_type": "markdown",
   "metadata": {},
   "source": [
    "**Dense Layer**"
   ]
  },
  {
   "cell_type": "markdown",
   "metadata": {},
   "source": [
    "## Explanation:\n",
    "\n",
    "### Initialization:\n",
    "- **Weights (`self.w`):**\n",
    "  - Initialized with a scaled random normal distribution.\n",
    "  - `np.sqrt(2.0 / input_dim)`: He initialization, suitable for ReLU activations.\n",
    "\n",
    "- **Biases (`self.b`):**\n",
    "  - Initialized to zeros.\n",
    "\n",
    "- **Gradients (`self.dw`, `self.db`):**\n",
    "  - Placeholders for gradients computed during backpropagation.\n",
    "\n",
    "### Adam Parameters:\n",
    "- **First Moment Vectors (`self.m_w`, `self.m_b`):**\n",
    "  - Moving averages of the gradients.\n",
    "\n",
    "- **Second Moment Vectors (`self.v_w`, `self.v_b`):**\n",
    "  - Moving averages of the squared gradients.\n",
    "\n",
    "### Cache (`self.input`):\n",
    "- Stores the input to the layer for use during backpropagation.\n",
    "\n",
    "## Theory:\n",
    "\n",
    "### Dense (Fully Connected) Layer:\n",
    "- Each neuron receives input from all neurons in the previous layer.\n",
    "- Computes `output = X * W + b`.\n",
    "\n",
    "### He Initialization:\n",
    "- Addresses the problem of vanishing/exploding gradients.\n",
    "- Suitable for layers followed by ReLU activation.\n",
    "\n",
    "\n",
    "### **Forward Pass Explanation:**\n",
    "  - Computes the linear transformation.\n",
    "  - Stores the input \\( X \\) for use in backpropagation.\n",
    "\n",
    "**Mathematical Operation:**\n",
    "  -  `output = X * W + b`.\n",
    "\n",
    "### **Backward Pass Explanation**:\n",
    "\n",
    "- **Gradients w.r.t Weights (`self.dw`):**\n",
    "  - Computed as the dot product of the transposed input and `grad_output`.\n",
    "\n",
    "- **Gradients w.r.t Biases (`self.db`):**\n",
    "  - Sum of `grad_output` along the batch dimension.\n",
    "\n",
    "- **Gradient w.r.t Input (`grad_input`):**\n",
    "  - Propagated backward to previous layers.\n",
    "  - Computed as the dot product of `grad_output` and transposed weights.\n",
    "\n",
    "## Theory:\n",
    "- Backpropagation involves computing the gradients of the loss with respect to each parameter.\n",
    "- Uses the chain rule from calculus.\n",
    "\n",
    "**Explanation for updating parameters:**\n",
    "  - **Computing Moving Averages:**\n",
    "    - `self.m_w`, `self.m_b`: Exponential moving averages of gradients (first moment).\n",
    "    - `self.v_w`, `self.v_b`: Exponential moving averages of squared gradients (second moment).\n",
    "  \n",
    "  - **Bias Correction:**\n",
    "    - Adjusts the moments to account for their initialization at zero.\n",
    "    - `m_w_hat`, `v_w_hat`: Corrected moments.\n",
    "\n",
    "  - **Parameter Updates:**\n",
    "    - Updates weights and biases using the Adam update rule.\n",
    "\n",
    "# Parameter Update Theory:\n",
    "\n",
    "- **Adam Optimizer:**\n",
    "  - Combines the advantages of both AdaGrad and RMSProp.\n",
    "\n",
    "  - **First Moment Estimate (Mean):**\n",
    "    - \\( m_t = \\beta_1 m_{t-1} + (1 - \\beta_1) g_t \\)\n",
    "\n",
    "  - **Second Moment Estimate (Variance):**\n",
    "    - \\( v_t = \\beta_2 v_{t-1} + (1 - \\beta_2) g_t^2 \\)\n",
    "\n",
    "  - **Bias Correction:**\n",
    "    - Adjusts for the initial bias towards zero moments.\n",
    "\n",
    "  - **Parameter Update:**\n",
    "    - \\( \\theta_t = \\theta_{t-1} - \\alpha \\frac{m_t}{\\sqrt{v_t} + \\epsilon} \\)\n",
    "\n",
    "- **Parameters:**\n",
    "  - `beta1` and `beta2`:\n",
    "    - Hyperparameters controlling the decay rates of the moving averages.\n",
    "    - Commonly set to `beta1=0.9` and `beta2=0.999`.\n",
    "\n",
    "  - `epsilon`:\n",
    "    - Small constant to prevent division by zero.\n",
    "\n",
    "  - `t`:\n",
    "    - Timestep, incremented after each parameter update.\n",
    "\n",
    "\n",
    "\n"
   ]
  },
  {
   "cell_type": "code",
   "execution_count": 7,
   "metadata": {},
   "outputs": [],
   "source": [
    "class DenseLayer:\n",
    "    def __init__(self, input_dim, output_dim):\n",
    "        # Initialize weights and biases\n",
    "        self.W = np.random.randn(input_dim, output_dim) * np.sqrt(2.0 / input_dim)\n",
    "        self.b = np.zeros((1, output_dim))\n",
    "        \n",
    "        # Gradients\n",
    "        self.dW = None\n",
    "        self.db = None\n",
    "        \n",
    "        # Adam parameters\n",
    "        self.m_W = np.zeros_like(self.W)\n",
    "        self.v_W = np.zeros_like(self.W)\n",
    "        self.m_b = np.zeros_like(self.b)\n",
    "        self.v_b = np.zeros_like(self.b)\n",
    "        \n",
    "        # Cache for backpropagation\n",
    "        self.input = None\n",
    "    \n",
    "    def forward(self, X):\n",
    "        self.input = X\n",
    "        output = np.dot(X, self.W) + self.b\n",
    "        return output\n",
    "    \n",
    "    def backward(self, grad_output):\n",
    "        # Compute gradients\n",
    "        self.dW = np.dot(self.input.T, grad_output)\n",
    "        self.db = np.sum(grad_output, axis=0, keepdims=True)\n",
    "        grad_input = np.dot(grad_output, self.W.T)\n",
    "        return grad_input\n",
    "    \n",
    "    def update_params(self, learning_rate, beta1, beta2, epsilon, t):\n",
    "        # Update weights and biases using Adam optimizer\n",
    "        self.m_W = beta1 * self.m_W + (1 - beta1) * self.dW\n",
    "        self.v_W = beta2 * self.v_W + (1 - beta2) * (self.dW ** 2)\n",
    "        m_W_hat = self.m_W / (1 - beta1 ** t)\n",
    "        v_W_hat = self.v_W / (1 - beta2 ** t)\n",
    "        self.W -= learning_rate * m_W_hat / (np.sqrt(v_W_hat) + epsilon)\n",
    "        \n",
    "        self.m_b = beta1 * self.m_b + (1 - beta1) * self.db\n",
    "        self.v_b = beta2 * self.v_b + (1 - beta2) * (self.db ** 2)\n",
    "        m_b_hat = self.m_b / (1 - beta1 ** t)\n",
    "        v_b_hat = self.v_b / (1 - beta2 ** t)\n",
    "        self.b -= learning_rate * m_b_hat / (np.sqrt(v_b_hat) + epsilon)\n"
   ]
  },
  {
   "cell_type": "markdown",
   "metadata": {},
   "source": [
    "**Batch Normalization**"
   ]
  },
  {
   "cell_type": "markdown",
   "metadata": {},
   "source": [
    "- **Scale Parameter (`self.gamma`):**\n",
    "  - Learns how much to scale the normalized output.\n",
    "\n",
    "- **Shift Parameter (`self.beta`):**\n",
    "  - Learns how much to shift the normalized output.\n",
    "\n",
    "- **`epsilon`:**\n",
    "  - Small constant to prevent division by zero.\n",
    "\n",
    "- **`momentum`:**\n",
    "  - Controls the updating of running estimates.\n",
    "\n",
    "- **Running Estimates:**\n",
    "  - `self.running_mean` and `self.running_var`:\n",
    "    - Used during inference to normalize data with global statistics.\n",
    "\n",
    "- **Gradients and Caches:**\n",
    "  - **Gradients (`self.dgamma`, `self.dbeta`):**\n",
    "    - For updating `gamma` and `beta`.\n",
    "  \n",
    "  - **Caches:**\n",
    "    - Stores intermediate variables needed for backpropagation.\n",
    "\n",
    "- **Adam Parameters:**\n",
    "  - For optimizing `gamma` and `beta`.\n",
    "\n",
    "\n",
    "## Batch Normalization:\n",
    "- Normalizes the input of each mini-batch to have zero mean and unit variance.\n",
    "- Helps in stabilizing the learning process and allows for higher learning rates.\n",
    "- Learns `gamma` and `beta` to restore the representation power.\n",
    "\n",
    "### Forward Pass:\n",
    "**Explanation:**\n",
    "  - **Training Mode:**\n",
    "    - **Compute Batch Statistics:**\n",
    "      - Mean (`self.batch_mean`) and variance (`self.batch_var`) over the mini-batch.\n",
    "      \n",
    "    - **Normalize the Batch:**\n",
    "      - Subtract mean and divide by standard deviation (`self.std_inv`).\n",
    "      \n",
    "    - **Scale and Shift:**\n",
    "      - Apply learned `gamma` and `beta`.\n",
    "      \n",
    "    - **Update Running Estimates:**\n",
    "      - For use during inference.\n",
    "\n",
    "  - **Inference Mode:**\n",
    "    - Uses the running mean and variance to normalize data.\n",
    "\n",
    "**Theory:**\n",
    "  - **Normalization Formula:**\n",
    "    - \\( \\hat{X} = \\frac{X - \\mu_{\\text{batch}}}{\\sqrt{\\sigma_{\\text{batch}}^2 + \\epsilon}} \\)\n",
    "\n",
    "  - **Scale and Shift:**\n",
    "    - \\( Y = \\gamma \\hat{X} + \\beta \\)\n",
    "\n",
    "  - **Running Estimates:**\n",
    "    - \\( \\text{running\\_mean} = \\text{momentum} \\times \\text{running\\_mean} + (1 - \\text{momentum}) \\times \\mu_{\\text{batch}} \\)\n",
    "    - Similar for running variance.\n",
    "\n",
    "## backward Pass\n",
    "- **Explanation:**\n",
    "  - **Gradients w.r.t Parameters:**\n",
    "    - `self.dgamma`:\n",
    "      - Gradient of the loss with respect to `gamma`.\n",
    "    - `self.dbeta`:\n",
    "      - Gradient of the loss with respect to `beta`.\n",
    "\n",
    "  - **Gradient w.r.t Input (`dX`):**\n",
    "    - Computed using chain rule and intermediate variables.\n",
    "    - Ensures that gradients flow correctly through the normalization step.\n",
    "\n",
    "- **Theory:**\n",
    "  - **Backpropagation Through Batch Norm:**\n",
    "    - Involves computing derivatives through the normalization and scaling steps.\n",
    "    - Requires careful calculation to maintain numerical stability.\n",
    "\n",
    "\n",
    "## update_params\n",
    "- Similar to the Dense Layer, but updates `gamma` and `beta` parameters.\n",
    "- Uses the Adam optimization algorithm for parameter updates.\n",
    "\n",
    "\n",
    "\n"
   ]
  },
  {
   "cell_type": "code",
   "execution_count": 8,
   "metadata": {},
   "outputs": [],
   "source": [
    "class BatchNormalization:\n",
    "    def __init__(self, input_dim, epsilon=1e-5, momentum=0.9):\n",
    "        self.gamma = np.ones((1, input_dim))\n",
    "        self.beta = np.zeros((1, input_dim))\n",
    "        self.epsilon = epsilon\n",
    "        self.momentum = momentum\n",
    "        \n",
    "        self.running_mean = np.zeros((1, input_dim))\n",
    "        self.running_var = np.zeros((1, input_dim))\n",
    "        \n",
    "        # Gradients\n",
    "        self.dgamma = None\n",
    "        self.dbeta = None\n",
    "        \n",
    "        # Cache for backpropagation\n",
    "        self.X_centered = None\n",
    "        self.std_inv = None\n",
    "        self.batch_mean = None\n",
    "        self.batch_var = None\n",
    "        \n",
    "        # Adam parameters\n",
    "        self.m_gamma = np.zeros_like(self.gamma)\n",
    "        self.v_gamma = np.zeros_like(self.gamma)\n",
    "        self.m_beta = np.zeros_like(self.beta)\n",
    "        self.v_beta = np.zeros_like(self.beta)\n",
    "    \n",
    "    def forward(self, X, training=True):\n",
    "        if training:\n",
    "            self.batch_mean = np.mean(X, axis=0, keepdims=True)\n",
    "            self.batch_var = np.var(X, axis=0, keepdims=True)\n",
    "            \n",
    "            self.X_centered = X - self.batch_mean\n",
    "            self.std_inv = 1.0 / np.sqrt(self.batch_var + self.epsilon)\n",
    "            \n",
    "            X_norm = self.X_centered * self.std_inv\n",
    "            out = self.gamma * X_norm + self.beta\n",
    "            \n",
    "            # Update running estimates\n",
    "            self.running_mean = self.momentum * self.running_mean + (1 - self.momentum) * self.batch_mean\n",
    "            self.running_var = self.momentum * self.running_var + (1 - self.momentum) * self.batch_var\n",
    "        else:\n",
    "            # Use running mean and var during inference\n",
    "            X_centered = X - self.running_mean\n",
    "            std_inv = 1.0 / np.sqrt(self.running_var + self.epsilon)\n",
    "            X_norm = X_centered * std_inv\n",
    "            out = self.gamma * X_norm + self.beta\n",
    "        return out\n",
    "    \n",
    "    def backward(self, grad_output):\n",
    "        N, D = grad_output.shape\n",
    "        \n",
    "        # Step-wise computation for gradients\n",
    "        X_norm = self.X_centered * self.std_inv\n",
    "        dX_norm = grad_output * self.gamma\n",
    "        \n",
    "        dvar = np.sum(dX_norm * self.X_centered * -0.5 * self.std_inv ** 3, axis=0)\n",
    "        dmean = np.sum(dX_norm * -self.std_inv, axis=0) + dvar * np.mean(-2.0 * self.X_centered, axis=0)\n",
    "        \n",
    "        dX = (dX_norm * self.std_inv) + (dvar * 2.0 * self.X_centered / N) + (dmean / N)\n",
    "        self.dgamma = np.sum(grad_output * X_norm, axis=0, keepdims=True)\n",
    "        self.dbeta = np.sum(grad_output, axis=0, keepdims=True)\n",
    "        \n",
    "        return dX\n",
    "    \n",
    "    def update_params(self, learning_rate, beta1, beta2, epsilon, t):\n",
    "        # Update gamma and beta using Adam optimizer\n",
    "        self.m_gamma = beta1 * self.m_gamma + (1 - beta1) * self.dgamma\n",
    "        self.v_gamma = beta2 * self.v_gamma + (1 - beta2) * (self.dgamma ** 2)\n",
    "        m_gamma_hat = self.m_gamma / (1 - beta1 ** t)\n",
    "        v_gamma_hat = self.v_gamma / (1 - beta2 ** t)\n",
    "        self.gamma -= learning_rate * m_gamma_hat / (np.sqrt(v_gamma_hat) + epsilon)\n",
    "        \n",
    "        self.m_beta = beta1 * self.m_beta + (1 - beta1) * self.dbeta\n",
    "        self.v_beta = beta2 * self.v_beta + (1 - beta2) * (self.dbeta ** 2)\n",
    "        m_beta_hat = self.m_beta / (1 - beta1 ** t)\n",
    "        v_beta_hat = self.v_beta / (1 - beta2 ** t)\n",
    "        self.beta -= learning_rate * m_beta_hat / (np.sqrt(v_beta_hat) + epsilon)\n"
   ]
  },
  {
   "cell_type": "markdown",
   "metadata": {},
   "source": [
    "**ReLU Activation**"
   ]
  },
  {
   "cell_type": "markdown",
   "metadata": {},
   "source": [
    "## ReLU Activation\n",
    "- **Forward Pass:**\n",
    "  - `np.maximum(0, X)`:\n",
    "    - Applies the ReLU function element-wise.\n",
    "    - Sets all negative inputs to zero.\n",
    "\n",
    "- **Backward Pass:**\n",
    "  - **Gradient w.r.t Input (`grad_input`):**\n",
    "    - For inputs where \\( X > 0 \\), gradient is unchanged.\n",
    "    - For inputs where \\( X \\leq 0 \\), gradient is zero.\n",
    "\n",
    "- **Theory:**\n",
    "  - **ReLU Function:**\n",
    "    - \\( \\text{ReLU}(x) = \\max(0, x) \\)\n",
    "\n",
    "  - **Derivative:**\n",
    "    - \\( \\frac{d}{dx} \\text{ReLU}(x) = \\begin{cases} 1, & x > 0 \\\\ 0, & x \\leq 0 \\end{cases} \\)\n"
   ]
  },
  {
   "cell_type": "code",
   "execution_count": 9,
   "metadata": {},
   "outputs": [],
   "source": [
    "class ReLU:\n",
    "    def __init__(self):\n",
    "        self.input = None\n",
    "    \n",
    "    def forward(self, X):\n",
    "        self.input = X\n",
    "        return np.maximum(0, X)\n",
    "    \n",
    "    def backward(self, grad_output):\n",
    "        grad_input = grad_output.copy()\n",
    "        grad_input[self.input <= 0] = 0\n",
    "        return grad_input\n"
   ]
  },
  {
   "cell_type": "markdown",
   "metadata": {},
   "source": [
    "## Dropout\n",
    "- Regularization technique to prevent overfitting.\n",
    "- During training, randomly drops units along with their connections.\n",
    "- **Scaling**:\n",
    "- - By scaling the activations during training, there's no need to adjust them during inference.\n",
    "- **Parameters:**\n",
    "  - `dropout_rate`:\n",
    "    - Probability of dropping a neuron (setting its output to zero).\n",
    "\n",
    "- **Forward Pass:**\n",
    "  - **Training Mode:**\n",
    "    - **Creating the Mask:**\n",
    "      - Randomly sets neurons to zero with probability `dropout_rate`.\n",
    "      - **Scaling:** Divides by \\( (1 - \\text{dropout_rate}) \\) to keep the expected value of the activations the same.\n",
    "      \n",
    "    - **Applying the Mask:**\n",
    "      - Multiplies the input \\( X \\) by the mask.\n",
    "\n",
    "  - **Inference Mode:**\n",
    "    - No dropout is applied during testing.\n",
    "\n",
    "- **Backward Pass:**\n",
    "  - **Gradient w.r.t Input (`grad_output * self.mask`):**\n",
    "    - Propagates gradients only through the neurons that were not dropped during the forward pass.\n",
    "- **Scaling**\n",
    "  By scaling the activations during training, there's no need to adjust them during inference.\n"
   ]
  },
  {
   "cell_type": "markdown",
   "metadata": {},
   "source": [
    "**Dropout**"
   ]
  },
  {
   "cell_type": "code",
   "execution_count": 10,
   "metadata": {},
   "outputs": [],
   "source": [
    "class Dropout:\n",
    "    def __init__(self, dropout_rate):\n",
    "        self.dropout_rate = dropout_rate\n",
    "        self.mask = None\n",
    "    \n",
    "    def forward(self, X, training=True):\n",
    "        if training:\n",
    "            self.mask = (np.random.rand(*X.shape) > self.dropout_rate) / (1.0 - self.dropout_rate)\n",
    "            return X * self.mask\n",
    "        else:\n",
    "            return X  # During inference, no dropout applied\n",
    "    \n",
    "    def backward(self, grad_output):\n",
    "        return grad_output * self.mask\n"
   ]
  },
  {
   "cell_type": "markdown",
   "metadata": {},
   "source": [
    "**Softmax and Cross-Entropy Loss**"
   ]
  },
  {
   "cell_type": "code",
   "execution_count": 11,
   "metadata": {},
   "outputs": [],
   "source": [
    "def softmax_cross_entropy_loss(logits, labels):\n",
    "    # logits: output of the network before softmax, shape (N, C)\n",
    "    # labels: one-hot encoded true labels, shape (N, C)\n",
    "    # returns loss and gradient with respect to logits\n",
    "    \n",
    "    # Compute softmax probabilities\n",
    "    exps = np.exp(logits - np.max(logits, axis=1, keepdims=True))\n",
    "    softmax_probs = exps / np.sum(exps, axis=1, keepdims=True)\n",
    "    \n",
    "    # Compute loss\n",
    "    N = logits.shape[0]\n",
    "    loss = -np.sum(labels * np.log(softmax_probs + 1e-15)) / N\n",
    "    \n",
    "    # Compute gradient\n",
    "    grad_logits = (softmax_probs - labels) / N\n",
    "    return loss, grad_logits\n"
   ]
  },
  {
   "cell_type": "markdown",
   "metadata": {},
   "source": [
    "## Building the Network Architecture"
   ]
  },
  {
   "cell_type": "markdown",
   "metadata": {},
   "source": [
    "### Initialization:\n",
    "- self.layers:\n",
    "  - List of layers constituting the network.\n",
    "- self.t:\n",
    "  - Global timestep used for Adam optimizer.\n",
    "\n",
    "### Forward Pass:\n",
    "- Iterates through each layer, passing the output of one as the input to the next.\n",
    "- **Conditional Forward Pass:**: For layers that behave differently during training and inference (Dropout, BatchNormalization), passes the training flag.\n",
    "\n",
    "### Backward Pass:\n",
    "- Iterates through layers in reverse order.\n",
    "- Passes the gradient from one layer to the previous.\n",
    "\n",
    "### Parameter Update:\n",
    "- Updates parameters of each layer that has an `update_params` method.\n",
    "- Increments the global timestep `self.t` after each update."
   ]
  },
  {
   "cell_type": "code",
   "execution_count": 12,
   "metadata": {},
   "outputs": [],
   "source": [
    "class NeuralNetwork:\n",
    "    def __init__(self, layers):\n",
    "        self.layers = layers\n",
    "        self.t = 1  # Timestep for Adam optimizer\n",
    "    \n",
    "    def forward(self, X, training=True):\n",
    "        for layer in self.layers:\n",
    "            if isinstance(layer, (Dropout, BatchNormalization)):\n",
    "                X = layer.forward(X, training=training)\n",
    "            else:\n",
    "                X = layer.forward(X)\n",
    "        return X\n",
    "    \n",
    "    def backward(self, grad_output):\n",
    "        for layer in reversed(self.layers):\n",
    "            grad_output = layer.backward(grad_output)\n",
    "    \n",
    "    def update_params(self, learning_rate, beta1, beta2, epsilon):\n",
    "        for layer in self.layers:\n",
    "            if hasattr(layer, 'update_params'):\n",
    "                layer.update_params(learning_rate, beta1, beta2, epsilon, self.t)\n",
    "        self.t += 1\n"
   ]
  },
  {
   "cell_type": "markdown",
   "metadata": {},
   "source": [
    "## Network Structure:\n",
    "- Input Layer: Receives flattened 28x28 images `(input_dim = 784)`.\n",
    "  \n",
    "### First Hidden Layer:\n",
    "- Dense Layer: 512 units. \n",
    "- Batch Normalization.\n",
    "- ReLU Activation.\n",
    "- Dropout with 30% rate.\n",
    "\n",
    "### Second Hidden Layer:\n",
    "- Dense Layer: 256 units. \n",
    "- Batch Normalization.\n",
    "- ReLU Activation.\n",
    "- Dropout with 30% rate.\n",
    "\n",
    "### Third Hidden Layer:\n",
    "- Dense Layer: 128 units. \n",
    "- Batch Normalization.\n",
    "- ReLU Activation.\n",
    "- Dropout with 30% rate.\n",
    "\n",
    "### Output Layer\n",
    "- Dense Layer: 10 units (one for each class).\n",
    "\n"
   ]
  },
  {
   "cell_type": "code",
   "execution_count": 13,
   "metadata": {},
   "outputs": [],
   "source": [
    "input_dim = 784  # 28x28 images flattened\n",
    "layer1_units = 512\n",
    "layer2_units = 256\n",
    "layer3_units = 128 \n",
    "output_units = 10  # Number of classes\n",
    "\n",
    "layers = [\n",
    "    DenseLayer(input_dim, layer1_units),\n",
    "    BatchNormalization(layer1_units),\n",
    "    ReLU(),\n",
    "    Dropout(0.3),\n",
    "\n",
    "    DenseLayer(layer1_units, layer2_units),\n",
    "    BatchNormalization(layer2_units),\n",
    "    ReLU(),\n",
    "    Dropout(0.3),\n",
    "\n",
    "    DenseLayer(layer2_units, layer3_units),\n",
    "    BatchNormalization(layer3_units),\n",
    "    ReLU(),\n",
    "    Dropout(0.3),\n",
    "\n",
    "    DenseLayer(layer3_units, output_units)\n",
    "]\n",
    "\n",
    "# Initialize the network\n",
    "network = NeuralNetwork(layers)\n"
   ]
  },
  {
   "cell_type": "markdown",
   "metadata": {},
   "source": [
    "## Training the Model"
   ]
  },
  {
   "cell_type": "markdown",
   "metadata": {},
   "source": [
    "**Setting Hyperparameters**"
   ]
  },
  {
   "cell_type": "markdown",
   "metadata": {},
   "source": [
    "- **Learning Rate (`learning_rate`):**\n",
    "  - Step size for parameter updates.\n",
    "\n",
    "- **Adam Hyperparameters:**\n",
    "  - `beta1`: Decay rate for first moment estimates.\n",
    "  - `beta2`: Decay rate for second moment estimates.\n",
    "  - `epsilon`: Small constant to prevent division by zero.\n",
    "\n",
    "- **Training Configuration:**\n",
    "  - `num_epochs`: Number of times the entire training dataset is passed through the network.\n",
    "  - `batch_size`: Number of samples processed before updating the model parameters."
   ]
  },
  {
   "cell_type": "code",
   "execution_count": 14,
   "metadata": {},
   "outputs": [],
   "source": [
    "learning_rate = 0.001\n",
    "beta1 = 0.9\n",
    "beta2 = 0.999\n",
    "epsilon = 1e-8\n",
    "num_epochs = 30\n",
    "batch_size = 64"
   ]
  },
  {
   "cell_type": "markdown",
   "metadata": {},
   "source": [
    "**Training Loop**"
   ]
  },
  {
   "cell_type": "code",
   "execution_count": 15,
   "metadata": {},
   "outputs": [],
   "source": [
    "# def train(network, X_train, y_train_one_hot, X_val, y_val_one_hot, num_epochs, batch_size):\n",
    "#     num_train_samples = X_train.shape[0]\n",
    "#     num_batches = int(np.ceil(num_train_samples / batch_size))\n",
    "    \n",
    "#     train_losses = []\n",
    "#     val_losses = []\n",
    "    \n",
    "#     for epoch in range(num_epochs):\n",
    "#         # Shuffle the training data\n",
    "#         indices = np.arange(num_train_samples)\n",
    "#         np.random.shuffle(indices)\n",
    "#         X_train_shuffled = X_train[indices]\n",
    "#         y_train_shuffled = y_train_one_hot[indices]\n",
    "        \n",
    "#         epoch_loss = 0.0\n",
    "#         for i in range(num_batches):\n",
    "#             start = i * batch_size\n",
    "#             end = min(start + batch_size, num_train_samples)\n",
    "#             X_batch = X_train_shuffled[start:end]\n",
    "#             y_batch = y_train_shuffled[start:end]\n",
    "            \n",
    "#             # Forward pass\n",
    "#             logits = network.forward(X_batch, training=True)\n",
    "            \n",
    "#             # Compute loss and gradient\n",
    "#             loss, grad_logits = softmax_cross_entropy_loss(logits, y_batch)\n",
    "#             epoch_loss += loss\n",
    "            \n",
    "#             # Backward pass\n",
    "#             network.backward(grad_logits)\n",
    "            \n",
    "#             # Update parameters\n",
    "#             network.update_params(learning_rate, beta1, beta2, epsilon)\n",
    "        \n",
    "#         # Compute average training loss\n",
    "#         avg_train_loss = epoch_loss / num_batches\n",
    "#         train_losses.append(avg_train_loss)\n",
    "        \n",
    "#         # Validation\n",
    "#         logits_val = network.forward(X_val, training=False)\n",
    "#         val_loss, _ = softmax_cross_entropy_loss(logits_val, y_val_one_hot)\n",
    "#         val_losses.append(val_loss)\n",
    "        \n",
    "#         # Compute validation accuracy\n",
    "#         predictions = np.argmax(logits_val, axis=1)\n",
    "#         true_labels = np.argmax(y_val_one_hot, axis=1)\n",
    "#         val_accuracy = np.mean(predictions == true_labels)\n",
    "        \n",
    "#         print(f\"Epoch {epoch+1}/{num_epochs}, Training Loss: {avg_train_loss:.4f}, \"\n",
    "#               f\"Validation Loss: {val_loss:.4f}, Validation Accuracy: {val_accuracy:.4f}\")\n",
    "    \n",
    "#     return train_losses, val_losses\n",
    "def train(network, X_train, y_train_one_hot, X_val, y_val_one_hot, num_epochs, batch_size):\n",
    "    num_train_samples = X_train.shape[0]\n",
    "    num_batches = int(np.ceil(num_train_samples / batch_size))\n",
    "\n",
    "    train_losses = []\n",
    "    val_losses = []\n",
    "\n",
    "    initial_learning_rate = 0.001\n",
    "    for epoch in range(num_epochs):\n",
    "        # Decay learning rate\n",
    "        learning_rate_epoch = initial_learning_rate * (0.95 ** epoch)\n",
    "\n",
    "        # Shuffle the training data\n",
    "        indices = np.arange(num_train_samples)\n",
    "        np.random.shuffle(indices)\n",
    "        X_train_shuffled = X_train[indices]\n",
    "        y_train_shuffled = y_train_one_hot[indices]\n",
    "\n",
    "        epoch_loss = 0.0\n",
    "        for i in range(num_batches):\n",
    "            start = i * batch_size\n",
    "            end = min(start + batch_size, num_train_samples)\n",
    "            X_batch = X_train_shuffled[start:end]\n",
    "            y_batch = y_train_shuffled[start:end]\n",
    "\n",
    "            # Forward pass\n",
    "            logits = network.forward(X_batch, training=True)\n",
    "\n",
    "            # Compute loss and gradient\n",
    "            loss, grad_logits = softmax_cross_entropy_loss(logits, y_batch)\n",
    "            epoch_loss += loss\n",
    "\n",
    "            # Backward pass\n",
    "            network.backward(grad_logits)\n",
    "\n",
    "            # Update parameters\n",
    "            network.update_params(learning_rate_epoch, beta1, beta2, epsilon)\n",
    "\n",
    "        # Compute average training loss\n",
    "        avg_train_loss = epoch_loss / num_batches\n",
    "        train_losses.append(avg_train_loss)\n",
    "\n",
    "        # Validation\n",
    "        logits_val = network.forward(X_val, training=False)\n",
    "        val_loss, _ = softmax_cross_entropy_loss(logits_val, y_val_one_hot)\n",
    "        val_losses.append(val_loss)\n",
    "\n",
    "        # Compute validation accuracy\n",
    "        predictions = np.argmax(logits_val, axis=1)\n",
    "        true_labels = np.argmax(y_val_one_hot, axis=1)\n",
    "        val_accuracy = np.mean(predictions == true_labels)\n",
    "\n",
    "        print(f\"Epoch {epoch+1}/{num_epochs}, Training Loss: {avg_train_loss:.4f}, \"\n",
    "              f\"Validation Loss: {val_loss:.4f}, Validation Accuracy: {val_accuracy:.4f}\")\n",
    "    return train_losses, val_losses\n",
    "\n"
   ]
  },
  {
   "cell_type": "markdown",
   "metadata": {},
   "source": [
    "**Training the Network**"
   ]
  },
  {
   "cell_type": "code",
   "execution_count": 16,
   "metadata": {},
   "outputs": [
    {
     "name": "stdout",
     "output_type": "stream",
     "text": [
      "Epoch 1/30, Training Loss: 0.5819, Validation Loss: 0.3757, Validation Accuracy: 0.8560\n",
      "Epoch 2/30, Training Loss: 0.4274, Validation Loss: 0.3336, Validation Accuracy: 0.8733\n",
      "Epoch 3/30, Training Loss: 0.3872, Validation Loss: 0.3168, Validation Accuracy: 0.8823\n",
      "Epoch 4/30, Training Loss: 0.3620, Validation Loss: 0.3022, Validation Accuracy: 0.8863\n",
      "Epoch 5/30, Training Loss: 0.3413, Validation Loss: 0.3184, Validation Accuracy: 0.8785\n",
      "Epoch 6/30, Training Loss: 0.3252, Validation Loss: 0.2836, Validation Accuracy: 0.8923\n",
      "Epoch 7/30, Training Loss: 0.3093, Validation Loss: 0.3001, Validation Accuracy: 0.8855\n",
      "Epoch 8/30, Training Loss: 0.2986, Validation Loss: 0.2738, Validation Accuracy: 0.8963\n",
      "Epoch 9/30, Training Loss: 0.2845, Validation Loss: 0.2913, Validation Accuracy: 0.8925\n",
      "Epoch 10/30, Training Loss: 0.2720, Validation Loss: 0.2820, Validation Accuracy: 0.8968\n",
      "Epoch 11/30, Training Loss: 0.2640, Validation Loss: 0.2725, Validation Accuracy: 0.8968\n",
      "Epoch 12/30, Training Loss: 0.2524, Validation Loss: 0.2680, Validation Accuracy: 0.9018\n",
      "Epoch 13/30, Training Loss: 0.2460, Validation Loss: 0.2678, Validation Accuracy: 0.9032\n",
      "Epoch 14/30, Training Loss: 0.2391, Validation Loss: 0.2865, Validation Accuracy: 0.8970\n",
      "Epoch 15/30, Training Loss: 0.2288, Validation Loss: 0.2609, Validation Accuracy: 0.9037\n",
      "Epoch 16/30, Training Loss: 0.2218, Validation Loss: 0.2666, Validation Accuracy: 0.9038\n",
      "Epoch 17/30, Training Loss: 0.2146, Validation Loss: 0.2602, Validation Accuracy: 0.9062\n",
      "Epoch 18/30, Training Loss: 0.2075, Validation Loss: 0.2620, Validation Accuracy: 0.9075\n",
      "Epoch 19/30, Training Loss: 0.2021, Validation Loss: 0.2644, Validation Accuracy: 0.9130\n",
      "Epoch 20/30, Training Loss: 0.1949, Validation Loss: 0.2611, Validation Accuracy: 0.9043\n",
      "Epoch 21/30, Training Loss: 0.1938, Validation Loss: 0.2568, Validation Accuracy: 0.9090\n",
      "Epoch 22/30, Training Loss: 0.1845, Validation Loss: 0.2696, Validation Accuracy: 0.9050\n",
      "Epoch 23/30, Training Loss: 0.1766, Validation Loss: 0.2750, Validation Accuracy: 0.9067\n",
      "Epoch 24/30, Training Loss: 0.1744, Validation Loss: 0.2631, Validation Accuracy: 0.9075\n",
      "Epoch 25/30, Training Loss: 0.1684, Validation Loss: 0.2708, Validation Accuracy: 0.9087\n",
      "Epoch 26/30, Training Loss: 0.1659, Validation Loss: 0.2654, Validation Accuracy: 0.9062\n",
      "Epoch 27/30, Training Loss: 0.1606, Validation Loss: 0.2655, Validation Accuracy: 0.9087\n",
      "Epoch 28/30, Training Loss: 0.1577, Validation Loss: 0.2730, Validation Accuracy: 0.9083\n",
      "Epoch 29/30, Training Loss: 0.1516, Validation Loss: 0.2763, Validation Accuracy: 0.9085\n",
      "Epoch 30/30, Training Loss: 0.1511, Validation Loss: 0.2736, Validation Accuracy: 0.9063\n"
     ]
    }
   ],
   "source": [
    "train_losses, val_losses = train(\n",
    "    network, X_train, y_train_one_hot, X_val, y_val_one_hot, num_epochs, batch_size\n",
    ")"
   ]
  },
  {
   "cell_type": "markdown",
   "metadata": {},
   "source": [
    "**Evaluating the Model**"
   ]
  },
  {
   "cell_type": "code",
   "execution_count": 17,
   "metadata": {},
   "outputs": [
    {
     "name": "stdout",
     "output_type": "stream",
     "text": [
      "Test Loss: 0.2754, Test Accuracy: 0.9103\n"
     ]
    }
   ],
   "source": [
    "def evaluate(network, X_test, y_test_one_hot):\n",
    "    logits = network.forward(X_test, training=False)\n",
    "    test_loss, _ = softmax_cross_entropy_loss(logits, y_test_one_hot)\n",
    "    predictions = np.argmax(logits, axis=1)\n",
    "    true_labels = np.argmax(y_test_one_hot, axis=1)\n",
    "    test_accuracy = np.mean(predictions == true_labels)\n",
    "    print(f\"Test Loss: {test_loss:.4f}, Test Accuracy: {test_accuracy:.4f}\")\n",
    "    return test_loss, test_accuracy\n",
    "\n",
    "test_loss, test_accuracy = evaluate(network, X_test, y_test_one_hot)\n"
   ]
  },
  {
   "cell_type": "markdown",
   "metadata": {},
   "source": [
    "## Saving the Trained Model"
   ]
  },
  {
   "cell_type": "code",
   "execution_count": 18,
   "metadata": {},
   "outputs": [],
   "source": [
    "import pickle\n",
    "\n",
    "# Save the model\n",
    "with open('trained_model_4.pkl', 'wb') as f:\n",
    "    pickle.dump(network, f)\n"
   ]
  },
  {
   "cell_type": "markdown",
   "metadata": {},
   "source": [
    "**loading the trained model**"
   ]
  },
  {
   "cell_type": "code",
   "execution_count": null,
   "metadata": {},
   "outputs": [],
   "source": [
    "# Load the model\n",
    "with open('trained_model.pkl', 'rb') as f:\n",
    "    loaded_network = pickle.load(f)\n",
    "\n",
    "# Use the loaded model for prediction\n",
    "logits_test = loaded_network.forward(X_test, training=False)\n",
    "predictions_test = np.argmax(logits_test, axis=1)\n"
   ]
  },
  {
   "cell_type": "markdown",
   "metadata": {},
   "source": [
    "**Visualizing Training Progress**"
   ]
  },
  {
   "cell_type": "code",
   "execution_count": 19,
   "metadata": {},
   "outputs": [
    {
     "data": {
      "image/png": "[encoded data removed]",
      "text/plain": [
       "<Figure size 640x480 with 1 Axes>"
      ]
     },
     "metadata": {},
     "output_type": "display_data"
    }
   ],
   "source": [
    "import matplotlib.pyplot as plt\n",
    "\n",
    "epochs = range(1, num_epochs + 1)\n",
    "plt.plot(epochs, train_losses, 'b', label='Training loss')\n",
    "plt.plot(epochs, val_losses, 'r', label='Validation loss')\n",
    "plt.title('Training and Validation Loss')\n",
    "plt.xlabel('Epochs')\n",
    "plt.ylabel('Loss')\n",
    "plt.legend()\n",
    "plt.show()\n"
   ]
  }
 ],
 "metadata": {
  "kernelspec": {
   "display_name": ".venv",
   "language": "python",
   "name": "python3"
  },
  "language_info": {
   "codemirror_mode": {
    "name": "ipython",
    "version": 3
   },
   "file_extension": ".py",
   "mimetype": "text/x-python",
   "name": "python",
   "nbconvert_exporter": "python",
   "pygments_lexer": "ipython3",
   "version": "3.12.3"
  }
 },
 "nbformat": 4,
 "nbformat_minor": 2
}
